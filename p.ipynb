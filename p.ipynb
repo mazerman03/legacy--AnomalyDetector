{
 "cells": [
  {
   "cell_type": "code",
   "execution_count": null,
   "metadata": {},
   "outputs": [],
   "source": [
    "import pandas as pd\n",
    "import plotly.express as px\n",
    "import numpy as np\n",
    "from statsmodels.graphics.tsaplots import plot_acf, plot_pacf\n",
    "import matplotlib.pyplot as plt\n",
    "\n",
    "df = pd.read_csv('cpu_DEVELOP.csv', parse_dates=[\"@timestamp\"])\n",
    "\n",
    "df['IDLE_pct'] = df['Idle']/df['Core']\n",
    "fig = px.line(df, x='@timestamp', y='IDLE_pct', title='CPU Idle percentage')\n",
    "\n",
    "fig.update_xaxes(\n",
    "    rangeslider_visible=True,\n",
    "    rangeselector=dict(\n",
    "        buttons=list([\n",
    "            dict(step=\"all\")\n",
    "        ])\n",
    "    )\n",
    ")\n",
    "#fig.show()\n",
    "\n",
    "#df.set_index('@timestamp', inplace=True)\n",
    "\n",
    "df.set_index('@timestamp', inplace=True)\n",
    "\n",
    "ts = df['IDLE_pct'].values\n",
    "\n",
    "from statsmodels.tsa.stattools import adfuller\n",
    "\n",
    "# assuming your time series is stored in a variable called 'ts'\n",
    "result1 = adfuller(ts)\n",
    "\n",
    "# print the ADF test statistic and p-value\n",
    "print('ADF Statistic:', result1[0])\n",
    "print('p-value:', result1[1])"
   ]
  },
  {
   "cell_type": "code",
   "execution_count": null,
   "metadata": {},
   "outputs": [],
   "source": [
    "df = pd.read_csv('cpu_DEVELOP.csv')\n",
    "df['IDLE_pct'] = df['Idle']/df['Core']\n",
    "\n",
    "pd.concat([df['@timestamp'],df[\"IDLE_pct\"]], axis=1)"
   ]
  },
  {
   "cell_type": "code",
   "execution_count": null,
   "metadata": {},
   "outputs": [],
   "source": [
    "import pandas as pd\n",
    "import plotly.express as px\n",
    "import numpy as np\n",
    "from statsmodels.graphics.tsaplots import plot_acf, plot_pacf\n",
    "import matplotlib.pyplot as plt\n",
    "\n",
    "df = pd.read_csv('cpu_DEVELOP.csv', parse_dates=[\"@timestamp\"])\n",
    "df['IDLE_pct'] = df['Idle']/df['Core']\n",
    "fig, axes = plt.subplots(3, 2, sharex=True)\n",
    "axes[0, 0].plot(df['IDLE_pct'].values); axes[0, 0].set_title('Original Series')\n",
    "plot_acf(df['IDLE_pct'].values, ax=axes[0, 1])\n",
    "\n",
    "# 1st Differencing\n",
    "axes[1, 0].plot(df['IDLE_pct'].values.diff()); axes[1, 0].set_title('1st Order Differencing')\n",
    "plot_acf(df['IDLE_pct'].values.diff().dropna(), ax=axes[1, 1])\n",
    "plt.show()\n"
   ]
  }
 ],
 "metadata": {
  "kernelspec": {
   "display_name": "Python 3",
   "language": "python",
   "name": "python3"
  },
  "language_info": {
   "codemirror_mode": {
    "name": "ipython",
    "version": 3
   },
   "file_extension": ".py",
   "mimetype": "text/x-python",
   "name": "python",
   "nbconvert_exporter": "python",
   "pygments_lexer": "ipython3",
   "version": "3.10.5"
  },
  "orig_nbformat": 4
 },
 "nbformat": 4,
 "nbformat_minor": 2
}
